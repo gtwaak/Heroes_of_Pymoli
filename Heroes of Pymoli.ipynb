{
 "cells": [
  {
   "cell_type": "markdown",
   "metadata": {},
   "source": [
    "### Heroes Of Pymoli Data Analysis\n",
    "* Of the 1163 active players, the vast majority are male (84%). There also exists, a smaller, but notable proportion of female players (14%).\n",
    "\n",
    "* Our peak age demographic falls between 20-24 (44.8%) with secondary groups falling between 15-19 (18.60%) and 25-29 (13.4%).  \n",
    "-----"
   ]
  },
  {
   "cell_type": "markdown",
   "metadata": {},
   "source": [
    "### Note\n",
    "* Instructions have been included for each segment. You do not have to follow them exactly, but they are included to help you think through the steps."
   ]
  },
  {
   "cell_type": "code",
   "execution_count": 2,
   "metadata": {},
   "outputs": [
    {
     "data": {
      "text/html": [
       "<div>\n",
       "<style scoped>\n",
       "    .dataframe tbody tr th:only-of-type {\n",
       "        vertical-align: middle;\n",
       "    }\n",
       "\n",
       "    .dataframe tbody tr th {\n",
       "        vertical-align: top;\n",
       "    }\n",
       "\n",
       "    .dataframe thead th {\n",
       "        text-align: right;\n",
       "    }\n",
       "</style>\n",
       "<table border=\"1\" class=\"dataframe\">\n",
       "  <thead>\n",
       "    <tr style=\"text-align: right;\">\n",
       "      <th></th>\n",
       "      <th>Purchase ID</th>\n",
       "      <th>SN</th>\n",
       "      <th>Age</th>\n",
       "      <th>Gender</th>\n",
       "      <th>Item ID</th>\n",
       "      <th>Item Name</th>\n",
       "      <th>Price</th>\n",
       "    </tr>\n",
       "  </thead>\n",
       "  <tbody>\n",
       "    <tr>\n",
       "      <th>0</th>\n",
       "      <td>0</td>\n",
       "      <td>Lisim78</td>\n",
       "      <td>20</td>\n",
       "      <td>Male</td>\n",
       "      <td>108</td>\n",
       "      <td>Extraction, Quickblade Of Trembling Hands</td>\n",
       "      <td>3.53</td>\n",
       "    </tr>\n",
       "    <tr>\n",
       "      <th>1</th>\n",
       "      <td>1</td>\n",
       "      <td>Lisovynya38</td>\n",
       "      <td>40</td>\n",
       "      <td>Male</td>\n",
       "      <td>143</td>\n",
       "      <td>Frenzied Scimitar</td>\n",
       "      <td>1.56</td>\n",
       "    </tr>\n",
       "    <tr>\n",
       "      <th>2</th>\n",
       "      <td>2</td>\n",
       "      <td>Ithergue48</td>\n",
       "      <td>24</td>\n",
       "      <td>Male</td>\n",
       "      <td>92</td>\n",
       "      <td>Final Critic</td>\n",
       "      <td>4.88</td>\n",
       "    </tr>\n",
       "    <tr>\n",
       "      <th>3</th>\n",
       "      <td>3</td>\n",
       "      <td>Chamassasya86</td>\n",
       "      <td>24</td>\n",
       "      <td>Male</td>\n",
       "      <td>100</td>\n",
       "      <td>Blindscythe</td>\n",
       "      <td>3.27</td>\n",
       "    </tr>\n",
       "    <tr>\n",
       "      <th>4</th>\n",
       "      <td>4</td>\n",
       "      <td>Iskosia90</td>\n",
       "      <td>23</td>\n",
       "      <td>Male</td>\n",
       "      <td>131</td>\n",
       "      <td>Fury</td>\n",
       "      <td>1.44</td>\n",
       "    </tr>\n",
       "    <tr>\n",
       "      <th>5</th>\n",
       "      <td>5</td>\n",
       "      <td>Yalae81</td>\n",
       "      <td>22</td>\n",
       "      <td>Male</td>\n",
       "      <td>81</td>\n",
       "      <td>Dreamkiss</td>\n",
       "      <td>3.61</td>\n",
       "    </tr>\n",
       "    <tr>\n",
       "      <th>6</th>\n",
       "      <td>6</td>\n",
       "      <td>Itheria73</td>\n",
       "      <td>36</td>\n",
       "      <td>Male</td>\n",
       "      <td>169</td>\n",
       "      <td>Interrogator, Blood Blade of the Queen</td>\n",
       "      <td>2.18</td>\n",
       "    </tr>\n",
       "    <tr>\n",
       "      <th>7</th>\n",
       "      <td>7</td>\n",
       "      <td>Iskjaskst81</td>\n",
       "      <td>20</td>\n",
       "      <td>Male</td>\n",
       "      <td>162</td>\n",
       "      <td>Abyssal Shard</td>\n",
       "      <td>2.67</td>\n",
       "    </tr>\n",
       "    <tr>\n",
       "      <th>8</th>\n",
       "      <td>8</td>\n",
       "      <td>Undjask33</td>\n",
       "      <td>22</td>\n",
       "      <td>Male</td>\n",
       "      <td>21</td>\n",
       "      <td>Souleater</td>\n",
       "      <td>1.10</td>\n",
       "    </tr>\n",
       "    <tr>\n",
       "      <th>9</th>\n",
       "      <td>9</td>\n",
       "      <td>Chanosian48</td>\n",
       "      <td>35</td>\n",
       "      <td>Other / Non-Disclosed</td>\n",
       "      <td>136</td>\n",
       "      <td>Ghastly Adamantite Protector</td>\n",
       "      <td>3.58</td>\n",
       "    </tr>\n",
       "  </tbody>\n",
       "</table>\n",
       "</div>"
      ],
      "text/plain": [
       "   Purchase ID             SN  Age                 Gender  Item ID  \\\n",
       "0            0        Lisim78   20                   Male      108   \n",
       "1            1    Lisovynya38   40                   Male      143   \n",
       "2            2     Ithergue48   24                   Male       92   \n",
       "3            3  Chamassasya86   24                   Male      100   \n",
       "4            4      Iskosia90   23                   Male      131   \n",
       "5            5        Yalae81   22                   Male       81   \n",
       "6            6      Itheria73   36                   Male      169   \n",
       "7            7    Iskjaskst81   20                   Male      162   \n",
       "8            8      Undjask33   22                   Male       21   \n",
       "9            9    Chanosian48   35  Other / Non-Disclosed      136   \n",
       "\n",
       "                                   Item Name  Price  \n",
       "0  Extraction, Quickblade Of Trembling Hands   3.53  \n",
       "1                          Frenzied Scimitar   1.56  \n",
       "2                               Final Critic   4.88  \n",
       "3                                Blindscythe   3.27  \n",
       "4                                       Fury   1.44  \n",
       "5                                  Dreamkiss   3.61  \n",
       "6     Interrogator, Blood Blade of the Queen   2.18  \n",
       "7                              Abyssal Shard   2.67  \n",
       "8                                  Souleater   1.10  \n",
       "9               Ghastly Adamantite Protector   3.58  "
      ]
     },
     "execution_count": 2,
     "metadata": {},
     "output_type": "execute_result"
    }
   ],
   "source": [
    "# Dependencies and Setup\n",
    "import pandas as pd\n",
    "import numpy as np\n",
    "\n",
    "# File to Load\n",
    "Pymoli = \"/Users/grahamwaak/Desktop/Heroes_of_Pymoli/purchase_data.csv\"\n",
    "\n",
    "# Read Purchasing File and store into Pandas data frame\n",
    "Pymoli_df = pd.read_csv(Pymoli)\n",
    "Pymoli_df.head(10)"
   ]
  },
  {
   "cell_type": "markdown",
   "metadata": {},
   "source": [
    "## Player Count"
   ]
  },
  {
   "cell_type": "markdown",
   "metadata": {},
   "source": [
    "* Display the total number of players\n"
   ]
  },
  {
   "cell_type": "code",
   "execution_count": 3,
   "metadata": {},
   "outputs": [
    {
     "data": {
      "text/html": [
       "<div>\n",
       "<style scoped>\n",
       "    .dataframe tbody tr th:only-of-type {\n",
       "        vertical-align: middle;\n",
       "    }\n",
       "\n",
       "    .dataframe tbody tr th {\n",
       "        vertical-align: top;\n",
       "    }\n",
       "\n",
       "    .dataframe thead th {\n",
       "        text-align: right;\n",
       "    }\n",
       "</style>\n",
       "<table border=\"1\" class=\"dataframe\">\n",
       "  <thead>\n",
       "    <tr style=\"text-align: right;\">\n",
       "      <th></th>\n",
       "      <th>Total Players</th>\n",
       "    </tr>\n",
       "  </thead>\n",
       "  <tbody>\n",
       "    <tr>\n",
       "      <th>0</th>\n",
       "      <td>576</td>\n",
       "    </tr>\n",
       "  </tbody>\n",
       "</table>\n",
       "</div>"
      ],
      "text/plain": [
       "   Total Players\n",
       "0            576"
      ]
     },
     "execution_count": 3,
     "metadata": {},
     "output_type": "execute_result"
    }
   ],
   "source": [
    "## Total Players\n",
    "uniqueplayers=Pymoli_df[\"SN\"].nunique()\n",
    "total_players_final = pd.DataFrame({\"Total Players\": [uniqueplayers]}, columns= [\"Total Players\"])\n",
    "total_players_final"
   ]
  },
  {
   "cell_type": "markdown",
   "metadata": {},
   "source": [
    "## Purchasing Analysis (Total)"
   ]
  },
  {
   "cell_type": "markdown",
   "metadata": {},
   "source": [
    "* Run basic calculations to obtain number of unique items, average price, etc.\n",
    "\n",
    "\n",
    "* Create a summary data frame to hold the results\n",
    "\n",
    "\n",
    "* Optional: give the displayed data cleaner formatting\n",
    "\n",
    "\n",
    "* Display the summary data frame\n"
   ]
  },
  {
   "cell_type": "code",
   "execution_count": 4,
   "metadata": {
    "scrolled": true
   },
   "outputs": [
    {
     "data": {
      "text/html": [
       "<div>\n",
       "<style scoped>\n",
       "    .dataframe tbody tr th:only-of-type {\n",
       "        vertical-align: middle;\n",
       "    }\n",
       "\n",
       "    .dataframe tbody tr th {\n",
       "        vertical-align: top;\n",
       "    }\n",
       "\n",
       "    .dataframe thead th {\n",
       "        text-align: right;\n",
       "    }\n",
       "</style>\n",
       "<table border=\"1\" class=\"dataframe\">\n",
       "  <thead>\n",
       "    <tr style=\"text-align: right;\">\n",
       "      <th></th>\n",
       "      <th>Total Unique Items</th>\n",
       "      <th>Average Purchase Price</th>\n",
       "      <th>Total Revenue</th>\n",
       "    </tr>\n",
       "  </thead>\n",
       "  <tbody>\n",
       "    <tr>\n",
       "      <th>0</th>\n",
       "      <td>183</td>\n",
       "      <td>$3.05</td>\n",
       "      <td>$2,379.77</td>\n",
       "    </tr>\n",
       "  </tbody>\n",
       "</table>\n",
       "</div>"
      ],
      "text/plain": [
       "   Total Unique Items Average Purchase Price Total Revenue\n",
       "0                 183                  $3.05     $2,379.77"
      ]
     },
     "execution_count": 4,
     "metadata": {},
     "output_type": "execute_result"
    }
   ],
   "source": [
    "## Total Unique Items\n",
    "unique_count = len(Pymoli_df[\"Item ID\"].unique())\n",
    "\n",
    "## Average Purchase Price\n",
    "average = Pymoli_df[\"Price\"].mean()\n",
    "\n",
    "## Total Revenue\n",
    "total_revenue = Pymoli_df[\"Price\"].sum()\n",
    "\n",
    "## Display Purchasing Analysis Table\n",
    "stats_summary = pd.DataFrame({\"Total Unique Items\": unique_count, \"Average Purchase Price\": [average], \"Total Revenue\": [total_revenue]})\n",
    "\n",
    "## Format the Values to have Two Decimal Places with Currency\n",
    "stats_summary[\"Average Purchase Price\"] = stats_summary[\"Average Purchase Price\"].astype(float).map(\"${:,.2f}\".format)\n",
    "stats_summary[\"Total Revenue\"] = stats_summary[\"Total Revenue\"].astype(float).map(\"${:,.2f}\".format)\n",
    "\n",
    "stats_summary"
   ]
  },
  {
   "cell_type": "markdown",
   "metadata": {},
   "source": [
    "## Gender Demographics"
   ]
  },
  {
   "cell_type": "markdown",
   "metadata": {},
   "source": [
    "* Percentage and Count of Male Players\n",
    "\n",
    "\n",
    "* Percentage and Count of Female Players\n",
    "\n",
    "\n",
    "* Percentage and Count of Other / Non-Disclosed\n",
    "\n",
    "\n"
   ]
  },
  {
   "cell_type": "code",
   "execution_count": 6,
   "metadata": {},
   "outputs": [
    {
     "data": {
      "text/html": [
       "<style  type=\"text/css\" >\n",
       "</style><table id=\"T_5f23f700_9091_11e9_910d_acde48001122\" ><thead>    <tr>        <th class=\"blank level0\" ></th>        <th class=\"col_heading level0 col0\" >Percentage of Players</th>        <th class=\"col_heading level0 col1\" >Total Count</th>    </tr>    <tr>        <th class=\"index_name level0\" >Gender</th>        <th class=\"blank\" ></th>        <th class=\"blank\" ></th>    </tr></thead><tbody>\n",
       "                <tr>\n",
       "                        <th id=\"T_5f23f700_9091_11e9_910d_acde48001122level0_row0\" class=\"row_heading level0 row0\" >Male</th>\n",
       "                        <td id=\"T_5f23f700_9091_11e9_910d_acde48001122row0_col0\" class=\"data row0 col0\" >84.03</td>\n",
       "                        <td id=\"T_5f23f700_9091_11e9_910d_acde48001122row0_col1\" class=\"data row0 col1\" >484</td>\n",
       "            </tr>\n",
       "            <tr>\n",
       "                        <th id=\"T_5f23f700_9091_11e9_910d_acde48001122level0_row1\" class=\"row_heading level0 row1\" >Female</th>\n",
       "                        <td id=\"T_5f23f700_9091_11e9_910d_acde48001122row1_col0\" class=\"data row1 col0\" >14.06</td>\n",
       "                        <td id=\"T_5f23f700_9091_11e9_910d_acde48001122row1_col1\" class=\"data row1 col1\" >81</td>\n",
       "            </tr>\n",
       "            <tr>\n",
       "                        <th id=\"T_5f23f700_9091_11e9_910d_acde48001122level0_row2\" class=\"row_heading level0 row2\" >Other / Non-Disclosed</th>\n",
       "                        <td id=\"T_5f23f700_9091_11e9_910d_acde48001122row2_col0\" class=\"data row2 col0\" >1.91</td>\n",
       "                        <td id=\"T_5f23f700_9091_11e9_910d_acde48001122row2_col1\" class=\"data row2 col1\" >11</td>\n",
       "            </tr>\n",
       "    </tbody></table>"
      ],
      "text/plain": [
       "<pandas.io.formats.style.Styler at 0x119b4af98>"
      ]
     },
     "execution_count": 6,
     "metadata": {},
     "output_type": "execute_result"
    }
   ],
   "source": [
    "## Group Data by Gender\n",
    "gender = Pymoli_df.groupby(\"Gender\")\n",
    "\n",
    "## Count the Total Unique Names per Gender\n",
    "total_count_gender = gender.nunique()[\"SN\"]\n",
    "\n",
    "## Total Count of Gender Percentage of Total\n",
    "percentage_of_players = total_count_gender / uniqueplayers * 100\n",
    "\n",
    "## Creat Data Frame with Obtained Values\n",
    "gender_dem = pd.DataFrame({\"Percentage of Players\": percentage_of_players, \"Total Count\": total_count_gender})\n",
    "\n",
    "## Format the Values in Descending Order with Two Decimals and Percentage\n",
    "gender_dem.sort_values([\"Total Count\"], ascending = False).style.format({\"Percentage of Players\":\"{:.2f}\"})"
   ]
  },
  {
   "cell_type": "markdown",
   "metadata": {},
   "source": [
    "\n",
    "## Purchasing Analysis (Gender)"
   ]
  },
  {
   "cell_type": "markdown",
   "metadata": {},
   "source": [
    "* Run basic calculations to obtain purchase count, avg. purchase price, avg. purchase total per person etc. by gender\n",
    "\n",
    "\n",
    "\n",
    "\n",
    "* Create a summary data frame to hold the results\n",
    "\n",
    "\n",
    "* Optional: give the displayed data cleaner formatting\n",
    "\n",
    "\n",
    "* Display the summary data frame"
   ]
  },
  {
   "cell_type": "code",
   "execution_count": 7,
   "metadata": {},
   "outputs": [
    {
     "data": {
      "text/html": [
       "<style  type=\"text/css\" >\n",
       "</style><table id=\"T_70db91c4_9091_11e9_910d_acde48001122\" ><thead>    <tr>        <th class=\"blank level0\" ></th>        <th class=\"col_heading level0 col0\" >Purchase Total</th>        <th class=\"col_heading level0 col1\" >Average Purchase Price</th>        <th class=\"col_heading level0 col2\" >Average Purchase Total</th>        <th class=\"col_heading level0 col3\" >Average Purchase Total per Player</th>    </tr>    <tr>        <th class=\"index_name level0\" >Gender</th>        <th class=\"blank\" ></th>        <th class=\"blank\" ></th>        <th class=\"blank\" ></th>        <th class=\"blank\" ></th>    </tr></thead><tbody>\n",
       "                <tr>\n",
       "                        <th id=\"T_70db91c4_9091_11e9_910d_acde48001122level0_row0\" class=\"row_heading level0 row0\" >Female</th>\n",
       "                        <td id=\"T_70db91c4_9091_11e9_910d_acde48001122row0_col0\" class=\"data row0 col0\" >113</td>\n",
       "                        <td id=\"T_70db91c4_9091_11e9_910d_acde48001122row0_col1\" class=\"data row0 col1\" >$3.20</td>\n",
       "                        <td id=\"T_70db91c4_9091_11e9_910d_acde48001122row0_col2\" class=\"data row0 col2\" >$361.94</td>\n",
       "                        <td id=\"T_70db91c4_9091_11e9_910d_acde48001122row0_col3\" class=\"data row0 col3\" >S4.47</td>\n",
       "            </tr>\n",
       "            <tr>\n",
       "                        <th id=\"T_70db91c4_9091_11e9_910d_acde48001122level0_row1\" class=\"row_heading level0 row1\" >Male</th>\n",
       "                        <td id=\"T_70db91c4_9091_11e9_910d_acde48001122row1_col0\" class=\"data row1 col0\" >652</td>\n",
       "                        <td id=\"T_70db91c4_9091_11e9_910d_acde48001122row1_col1\" class=\"data row1 col1\" >$3.02</td>\n",
       "                        <td id=\"T_70db91c4_9091_11e9_910d_acde48001122row1_col2\" class=\"data row1 col2\" >$1,967.64</td>\n",
       "                        <td id=\"T_70db91c4_9091_11e9_910d_acde48001122row1_col3\" class=\"data row1 col3\" >S4.07</td>\n",
       "            </tr>\n",
       "            <tr>\n",
       "                        <th id=\"T_70db91c4_9091_11e9_910d_acde48001122level0_row2\" class=\"row_heading level0 row2\" >Other / Non-Disclosed</th>\n",
       "                        <td id=\"T_70db91c4_9091_11e9_910d_acde48001122row2_col0\" class=\"data row2 col0\" >15</td>\n",
       "                        <td id=\"T_70db91c4_9091_11e9_910d_acde48001122row2_col1\" class=\"data row2 col1\" >$3.35</td>\n",
       "                        <td id=\"T_70db91c4_9091_11e9_910d_acde48001122row2_col2\" class=\"data row2 col2\" >$50.19</td>\n",
       "                        <td id=\"T_70db91c4_9091_11e9_910d_acde48001122row2_col3\" class=\"data row2 col3\" >S4.56</td>\n",
       "            </tr>\n",
       "    </tbody></table>"
      ],
      "text/plain": [
       "<pandas.io.formats.style.Styler at 0x119ad8518>"
      ]
     },
     "execution_count": 7,
     "metadata": {},
     "output_type": "execute_result"
    }
   ],
   "source": [
    "## Total Purchase Count per Gender\n",
    "purchase_total = gender[\"Price\"].count()\n",
    "\n",
    "## Average Purchase Price\n",
    "average_purchase_price = gender[\"Price\"].mean()\n",
    "\n",
    "## Average Purchase Total per Gender\n",
    "average_purchase_total = gender[\"Price\"].sum()\n",
    "\n",
    "## Average Purchase Total per Gender of Purchase Count for Unique Shoppers\n",
    "average_purchase_per_person = average_purchase_total/total_count_gender\n",
    "\n",
    "## Create Data Frame with Values\n",
    "gender_dem = pd.DataFrame({\"Purchase Total\": purchase_total, \"Average Purchase Price\": average_purchase_price, \"Average Purchase Total\": average_purchase_total, \"Average Purchase Total per Player\": average_purchase_per_person})\n",
    "\n",
    "## Format with Currency\n",
    "gender_dem.style.format({\"Average Purchase Total\":\"${:,.2f}\", \"Average Purchase Price\":\"${:,.2f}\", \"Average Purchase Total per Player\":\"S{:,.2f}\"})"
   ]
  },
  {
   "cell_type": "markdown",
   "metadata": {},
   "source": [
    "## Age Demographics"
   ]
  },
  {
   "cell_type": "markdown",
   "metadata": {},
   "source": [
    "* Establish bins for ages\n",
    "\n",
    "\n",
    "* Categorize the existing players using the age bins. Hint: use pd.cut()\n",
    "\n",
    "\n",
    "* Calculate the numbers and percentages by age group\n",
    "\n",
    "\n",
    "* Create a summary data frame to hold the results\n",
    "\n",
    "\n",
    "* Optional: round the percentage column to two decimal points\n",
    "\n",
    "\n",
    "* Display Age Demographics Table\n"
   ]
  },
  {
   "cell_type": "code",
   "execution_count": 8,
   "metadata": {},
   "outputs": [
    {
     "data": {
      "text/html": [
       "<style  type=\"text/css\" >\n",
       "</style><table id=\"T_80f41216_9091_11e9_910d_acde48001122\" ><thead>    <tr>        <th class=\"blank level0\" ></th>        <th class=\"col_heading level0 col0\" >Total Count</th>        <th class=\"col_heading level0 col1\" >Percentage of Players</th>    </tr></thead><tbody>\n",
       "                <tr>\n",
       "                        <th id=\"T_80f41216_9091_11e9_910d_acde48001122level0_row0\" class=\"row_heading level0 row0\" ><10</th>\n",
       "                        <td id=\"T_80f41216_9091_11e9_910d_acde48001122row0_col0\" class=\"data row0 col0\" >17</td>\n",
       "                        <td id=\"T_80f41216_9091_11e9_910d_acde48001122row0_col1\" class=\"data row0 col1\" >2.95</td>\n",
       "            </tr>\n",
       "            <tr>\n",
       "                        <th id=\"T_80f41216_9091_11e9_910d_acde48001122level0_row1\" class=\"row_heading level0 row1\" >10-14</th>\n",
       "                        <td id=\"T_80f41216_9091_11e9_910d_acde48001122row1_col0\" class=\"data row1 col0\" >22</td>\n",
       "                        <td id=\"T_80f41216_9091_11e9_910d_acde48001122row1_col1\" class=\"data row1 col1\" >3.82</td>\n",
       "            </tr>\n",
       "            <tr>\n",
       "                        <th id=\"T_80f41216_9091_11e9_910d_acde48001122level0_row2\" class=\"row_heading level0 row2\" >15-19</th>\n",
       "                        <td id=\"T_80f41216_9091_11e9_910d_acde48001122row2_col0\" class=\"data row2 col0\" >107</td>\n",
       "                        <td id=\"T_80f41216_9091_11e9_910d_acde48001122row2_col1\" class=\"data row2 col1\" >18.58</td>\n",
       "            </tr>\n",
       "            <tr>\n",
       "                        <th id=\"T_80f41216_9091_11e9_910d_acde48001122level0_row3\" class=\"row_heading level0 row3\" >20-24</th>\n",
       "                        <td id=\"T_80f41216_9091_11e9_910d_acde48001122row3_col0\" class=\"data row3 col0\" >258</td>\n",
       "                        <td id=\"T_80f41216_9091_11e9_910d_acde48001122row3_col1\" class=\"data row3 col1\" >44.79</td>\n",
       "            </tr>\n",
       "            <tr>\n",
       "                        <th id=\"T_80f41216_9091_11e9_910d_acde48001122level0_row4\" class=\"row_heading level0 row4\" >25-29</th>\n",
       "                        <td id=\"T_80f41216_9091_11e9_910d_acde48001122row4_col0\" class=\"data row4 col0\" >77</td>\n",
       "                        <td id=\"T_80f41216_9091_11e9_910d_acde48001122row4_col1\" class=\"data row4 col1\" >13.37</td>\n",
       "            </tr>\n",
       "            <tr>\n",
       "                        <th id=\"T_80f41216_9091_11e9_910d_acde48001122level0_row5\" class=\"row_heading level0 row5\" >30-34</th>\n",
       "                        <td id=\"T_80f41216_9091_11e9_910d_acde48001122row5_col0\" class=\"data row5 col0\" >52</td>\n",
       "                        <td id=\"T_80f41216_9091_11e9_910d_acde48001122row5_col1\" class=\"data row5 col1\" >9.03</td>\n",
       "            </tr>\n",
       "            <tr>\n",
       "                        <th id=\"T_80f41216_9091_11e9_910d_acde48001122level0_row6\" class=\"row_heading level0 row6\" >35-39</th>\n",
       "                        <td id=\"T_80f41216_9091_11e9_910d_acde48001122row6_col0\" class=\"data row6 col0\" >31</td>\n",
       "                        <td id=\"T_80f41216_9091_11e9_910d_acde48001122row6_col1\" class=\"data row6 col1\" >5.38</td>\n",
       "            </tr>\n",
       "            <tr>\n",
       "                        <th id=\"T_80f41216_9091_11e9_910d_acde48001122level0_row7\" class=\"row_heading level0 row7\" >40+</th>\n",
       "                        <td id=\"T_80f41216_9091_11e9_910d_acde48001122row7_col0\" class=\"data row7 col0\" >12</td>\n",
       "                        <td id=\"T_80f41216_9091_11e9_910d_acde48001122row7_col1\" class=\"data row7 col1\" >2.08</td>\n",
       "            </tr>\n",
       "    </tbody></table>"
      ],
      "text/plain": [
       "<pandas.io.formats.style.Styler at 0x11aa81748>"
      ]
     },
     "execution_count": 8,
     "metadata": {},
     "output_type": "execute_result"
    }
   ],
   "source": [
    "\n",
    "## Establish Bins for Ages\n",
    "age_bins = [0, 9.90, 14.90, 19.90, 24.90, 29.90, 34.90, 39.90, 99999]\n",
    "group_names = [\"<10\", \"10-14\", \"15-19\", \"20-24\", \"25-29\", \"30-34\", \"35-39\", \"40+\"]\n",
    "\n",
    "## Segment and Sort Age Values into Bins \n",
    "Pymoli_df[\"Age Group\"] = pd.cut(Pymoli_df[\"Age\"],age_bins, labels=group_names)\n",
    "\n",
    "\n",
    "#3 Create Data Frame with the \"Age Group\" \n",
    "age_grouped = Pymoli_df.groupby(\"Age Group\")\n",
    "\n",
    "# Count Total Players by Age Category\n",
    "total_count_age = age_grouped[\"SN\"].nunique()\n",
    "\n",
    "# Calculate Percentages by Age Category\n",
    "percentage_by_age = (total_count_age/uniqueplayers) * 100\n",
    "\n",
    "# Create data frame with obtained values\n",
    "age_demographics = pd.DataFrame({\"Total Count\": total_count_age, \"Percentage of Players\": percentage_by_age})\n",
    "\n",
    "# Format the data frame with no index name in the corner\n",
    "age_demographics.index.name = None\n",
    "\n",
    "# Format percentage with two decimal places \n",
    "age_demographics.style.format({\"Percentage of Players\":\"{:,.2f}\"})"
   ]
  },
  {
   "cell_type": "markdown",
   "metadata": {},
   "source": [
    "## Purchasing Analysis (Age)"
   ]
  },
  {
   "cell_type": "markdown",
   "metadata": {},
   "source": [
    "* Bin the purchase_data data frame by age\n",
    "\n",
    "\n",
    "* Run basic calculations to obtain purchase count, avg. purchase price, avg. purchase total per person etc. in the table below\n",
    "\n",
    "\n",
    "* Create a summary data frame to hold the results\n",
    "\n",
    "\n",
    "* Optional: give the displayed data cleaner formatting\n",
    "\n",
    "\n",
    "* Display the summary data frame"
   ]
  },
  {
   "cell_type": "code",
   "execution_count": null,
   "metadata": {},
   "outputs": [],
   "source": []
  },
  {
   "cell_type": "markdown",
   "metadata": {},
   "source": [
    "## Top Spenders"
   ]
  },
  {
   "cell_type": "markdown",
   "metadata": {},
   "source": [
    "* Run basic calculations to obtain the results in the table below\n",
    "\n",
    "\n",
    "* Create a summary data frame to hold the results\n",
    "\n",
    "\n",
    "* Sort the total purchase value column in descending order\n",
    "\n",
    "\n",
    "* Optional: give the displayed data cleaner formatting\n",
    "\n",
    "\n",
    "* Display a preview of the summary data frame\n",
    "\n"
   ]
  },
  {
   "cell_type": "code",
   "execution_count": null,
   "metadata": {},
   "outputs": [],
   "source": []
  },
  {
   "cell_type": "markdown",
   "metadata": {},
   "source": [
    "## Most Popular Items"
   ]
  },
  {
   "cell_type": "markdown",
   "metadata": {},
   "source": [
    "* Retrieve the Item ID, Item Name, and Item Price columns\n",
    "\n",
    "\n",
    "* Group by Item ID and Item Name. Perform calculations to obtain purchase count, item price, and total purchase value\n",
    "\n",
    "\n",
    "* Create a summary data frame to hold the results\n",
    "\n",
    "\n",
    "* Sort the purchase count column in descending order\n",
    "\n",
    "\n",
    "* Optional: give the displayed data cleaner formatting\n",
    "\n",
    "\n",
    "* Display a preview of the summary data frame\n",
    "\n"
   ]
  },
  {
   "cell_type": "code",
   "execution_count": null,
   "metadata": {},
   "outputs": [],
   "source": []
  },
  {
   "cell_type": "markdown",
   "metadata": {},
   "source": [
    "## Most Profitable Items"
   ]
  },
  {
   "cell_type": "markdown",
   "metadata": {},
   "source": [
    "* Sort the above table by total purchase value in descending order\n",
    "\n",
    "\n",
    "* Optional: give the displayed data cleaner formatting\n",
    "\n",
    "\n",
    "* Display a preview of the data frame\n",
    "\n"
   ]
  },
  {
   "cell_type": "code",
   "execution_count": null,
   "metadata": {
    "scrolled": true
   },
   "outputs": [],
   "source": []
  }
 ],
 "metadata": {
  "anaconda-cloud": {},
  "kernel_info": {
   "name": "python3"
  },
  "kernelspec": {
   "display_name": "Python 3",
   "language": "python",
   "name": "python3"
  },
  "language_info": {
   "codemirror_mode": {
    "name": "ipython",
    "version": 3
   },
   "file_extension": ".py",
   "mimetype": "text/x-python",
   "name": "python",
   "nbconvert_exporter": "python",
   "pygments_lexer": "ipython3",
   "version": "3.7.3"
  },
  "nteract": {
   "version": "0.2.0"
  }
 },
 "nbformat": 4,
 "nbformat_minor": 2
}
